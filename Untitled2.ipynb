{
  "nbformat": 4,
  "nbformat_minor": 0,
  "metadata": {
    "colab": {
      "provenance": []
    },
    "kernelspec": {
      "name": "python3",
      "display_name": "Python 3"
    },
    "language_info": {
      "name": "python"
    }
  },
  "cells": [
    {
      "cell_type": "code",
      "execution_count": 9,
      "metadata": {
        "colab": {
          "base_uri": "https://localhost:8080/"
        },
        "id": "pmAODKZF4UQ4",
        "outputId": "1b77d97d-d20d-46b8-81c8-095954f47f82"
      },
      "outputs": [
        {
          "output_type": "stream",
          "name": "stdout",
          "text": [
            "name:江梁沛恩,學號:b1205006\n"
          ]
        }
      ],
      "source": [
        "my_dict={\"name\":\"江梁沛恩\",\"學號\":\"b1205006\"}\n",
        "name=my_dict[\"name\"]\n",
        "學號=my_dict[\"學號\"]\n",
        "print(f\"name:{name},學號:{學號}\")"
      ]
    },
    {
      "cell_type": "code",
      "source": [
        "X=\"江梁沛恩\"\n",
        "Y=\"b1205006\"\n",
        "print(X)\n",
        "print(type(X))\n",
        "print(Y)\n",
        "print(type(Y))\n"
      ],
      "metadata": {
        "colab": {
          "base_uri": "https://localhost:8080/"
        },
        "id": "d1dGK8x_BWLY",
        "outputId": "33b9b0cb-5040-4d38-9624-90155bac9f85"
      },
      "execution_count": 11,
      "outputs": [
        {
          "output_type": "stream",
          "name": "stdout",
          "text": [
            "江梁沛恩\n",
            "<class 'str'>\n",
            "b1205006\n",
            "<class 'str'>\n"
          ]
        }
      ]
    }
  ]
}